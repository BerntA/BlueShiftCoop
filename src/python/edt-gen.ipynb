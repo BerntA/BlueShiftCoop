{
 "cells": [
  {
   "cell_type": "code",
   "execution_count": 14,
   "id": "ff6bf15e",
   "metadata": {},
   "outputs": [],
   "source": [
    "import sys\n",
    "import os\n",
    "from collections import defaultdict"
   ]
  },
  {
   "cell_type": "code",
   "execution_count": 15,
   "id": "40c3539a",
   "metadata": {},
   "outputs": [],
   "source": [
    "MAPS_DIR = r'steamapps\\common\\Black Mesa\\bshift\\maps'\n",
    "DUMPS_DIR = r'../sourcemod/data/srccoop/dumps'\n",
    "SCRIPTS_DIR = r'../sourcemod/data/srccoop'"
   ]
  },
  {
   "cell_type": "code",
   "execution_count": 16,
   "id": "1b4e6b83",
   "metadata": {},
   "outputs": [],
   "source": [
    "maps = sorted([m[:-4] for m in os.listdir(MAPS_DIR) if '.bsp' in m])"
   ]
  },
  {
   "cell_type": "code",
   "execution_count": 17,
   "id": "b846b1ea",
   "metadata": {},
   "outputs": [
    {
     "name": "stdout",
     "output_type": "stream",
     "text": [
      "['bs_c0m0a', 'bs_c0m0b', 'bs_c0m0c', 'bs_c1m0a', 'bs_c1m0b', 'bs_c1m0c', 'bs_c2m0a', 'bs_c2m0b', 'bs_c2m0c', 'bs_c2m0d', 'bs_c3m0a', 'bs_c3m0b', 'bs_c3m0c', 'bs_c3m0d', 'bs_c3m1a', 'bs_c3m1b', 'bs_c3m1c', 'bs_c3m1d', 'bs_c3m2a', 'bs_c3m2b', 'bs_c3m2c']\n"
     ]
    }
   ],
   "source": [
    "print(maps)"
   ]
  },
  {
   "cell_type": "code",
   "execution_count": 18,
   "id": "710453ce",
   "metadata": {},
   "outputs": [],
   "source": [
    "class Entity:\n",
    "    def __init__(self, data):\n",
    "        \"\"\"\n",
    "        Parses entity information from a dump file.\n",
    "        \"\"\"\n",
    "        self.kv = { v.split('\"')[1].strip().lower():v.split('\"')[3].strip() for v in data }\n",
    "        \n",
    "    def find(self, key):\n",
    "        \"\"\"\n",
    "        Lookup entity info by key.\n",
    "        \"\"\"\n",
    "        key = key.strip().lower()\n",
    "        return (self.kv[key] if (key in self.kv) else None)\n",
    "    \n",
    "class EntityDump:\n",
    "    def __init__(self, mapList):\n",
    "        \"\"\"\n",
    "        Loads entity dump data for the given maps.\n",
    "        \"\"\"\n",
    "        self.maps = mapList\n",
    "        self.data = defaultdict(list)\n",
    "        \n",
    "    def parseEntityDump(self, mapName, fileContents):\n",
    "        \"\"\"\n",
    "        Extracts each entity from the dump file.\n",
    "        \"\"\"\n",
    "        fileContents = fileContents.strip().replace('\\r', '').replace('{', '').replace('\\t', '')\n",
    "        for obj in fileContents.split('}'):\n",
    "            entityData = obj.strip().split('\\n')\n",
    "            if len(entityData) == 0 or len(entityData[0]) == 0:\n",
    "                continue\n",
    "            self.data[mapName].append(Entity(entityData))\n",
    "    \n",
    "    def loadEntityDumps(self, path):\n",
    "        \"\"\"\n",
    "        Load entity information from the dump files.\n",
    "        \"\"\"\n",
    "        entityDumpFiles = [file for file in os.listdir(path) if '.txt' in file]\n",
    "        \n",
    "        for bspMap in self.maps:\n",
    "            dumpFile = [f for f in entityDumpFiles if f.startswith(bspMap)]\n",
    "            \n",
    "            if len(dumpFile) == 0:\n",
    "                print('No dump file found for map:', bspMap)\n",
    "                continue\n",
    "                \n",
    "            dumpFile = dumpFile[0] # Load + parse file\n",
    "            with open('%s/%s' % (path, dumpFile), 'r') as f:\n",
    "                self.parseEntityDump(bspMap, f.read())\n",
    "\n",
    "    def findByClassName(self, mapName, key):\n",
    "        \"\"\"\n",
    "        Lookup the desired entities by classname, for the given map.\n",
    "        \"\"\"\n",
    "        if mapName in self.data:\n",
    "            return [v.kv for v in self.data[mapName] if v.find('classname') == key]\n",
    "        return None"
   ]
  },
  {
   "cell_type": "code",
   "execution_count": 19,
   "id": "190565ec",
   "metadata": {},
   "outputs": [],
   "source": [
    "class EDTScriptBuilder:\n",
    "    def __init__(self, currentMap, nextMap=None):\n",
    "        self.currentMap = currentMap\n",
    "        self.nextMap = nextMap\n",
    "        \n",
    "    def write(self, dump, shouldFade=False):\n",
    "        with open('%s/%s.edt' % (SCRIPTS_DIR, self.currentMap), 'w') as f:\n",
    "            f.write('#base \"base/bshift_sp_campaign.edt\"\\n')\n",
    "            f.write('\\n')\n",
    "            \n",
    "            f.write('\"config\"\\n')\n",
    "            f.write('{\\n')\n",
    "            \n",
    "            f.write('\\t\"chapter\" \"Blue Shift\"\\n')\n",
    "            \n",
    "            if self.nextMap:\n",
    "                f.write('\\t\"nextmap\" \"%s\"\\n' % self.nextMap)\n",
    "                \n",
    "            if shouldFade:\n",
    "                f.write('\\t\"intro_type\" \"fade\"\\n')\n",
    "                \n",
    "            f.write('\\n')\n",
    "            \n",
    "            # Entity modify\n",
    "            f.write('\\t\"entity\"\\n')\n",
    "            f.write('\\t{\\n')                        \n",
    "            f.write('\\t\\t\"modify\"\\n')\n",
    "            f.write('\\t\\t{\\n')\n",
    "            f.write('\\t\\t\\t\"classname\" \"logic_auto\"\\n')            \n",
    "            f.write('\\t\\t\\t\"functions\"\\n')\n",
    "            f.write('\\t\\t\\t{\\n')\n",
    "            f.write('\\t\\t\\t\\t\"delay_output\" \"OnMapSpawn\"\\n')\n",
    "            f.write('\\t\\t\\t\\t\"delay_output\" \"OnNewGame\"\\n')\n",
    "            f.write('\\t\\t\\t}\\n')            \n",
    "            f.write('\\t\\t}\\n')            \n",
    "            f.write('\\t}\\n')\n",
    "            \n",
    "            f.write('\\n')\n",
    "            \n",
    "            # Checkpoints\n",
    "            mapEntities = dump.findByClassName(self.currentMap, 'info_player_start')\n",
    "            if len(mapEntities) > 0:\n",
    "                origin = mapEntities[0].get('origin', None)\n",
    "                angles = mapEntities[0].get('angles', None)\n",
    "                \n",
    "                f.write('\\t\"checkpoint\"\\n')\n",
    "                f.write('\\t{\\n')                        \n",
    "                f.write('\\t\\t\"spawn\"\\n')\n",
    "                f.write('\\t\\t{\\n')\n",
    "                f.write('\\t\\t\\t\"origin\" \"%s\"\\n' % origin)            \n",
    "                f.write('\\t\\t\\t\"angles\" \"%s\"\\n' % angles)            \n",
    "                f.write('\\t\\t}\\n')            \n",
    "                f.write('\\t}\\n')\n",
    "            \n",
    "            f.write('}')            "
   ]
  },
  {
   "cell_type": "code",
   "execution_count": 20,
   "id": "287133c3",
   "metadata": {},
   "outputs": [],
   "source": [
    "dump = EntityDump(maps)\n",
    "dump.loadEntityDumps(DUMPS_DIR)"
   ]
  },
  {
   "cell_type": "code",
   "execution_count": 21,
   "id": "c6211513",
   "metadata": {},
   "outputs": [],
   "source": [
    "for idx, currentMap in enumerate(maps):\n",
    "    nextMap = maps[idx+1] if ((idx + 1) < len(maps)) else None\n",
    "    \n",
    "    bldr = EDTScriptBuilder(currentMap, nextMap)\n",
    "    bldr.write(dump, (idx == 0))"
   ]
  },
  {
   "cell_type": "code",
   "execution_count": 22,
   "id": "2314e175",
   "metadata": {},
   "outputs": [],
   "source": [
    "#dump.findByClassName('bs_c0m0b', 'info_landmark')"
   ]
  },
  {
   "cell_type": "code",
   "execution_count": null,
   "id": "534976e1",
   "metadata": {},
   "outputs": [],
   "source": []
  }
 ],
 "metadata": {
  "kernelspec": {
   "display_name": "Python 3 (ipykernel)",
   "language": "python",
   "name": "python3"
  },
  "language_info": {
   "codemirror_mode": {
    "name": "ipython",
    "version": 3
   },
   "file_extension": ".py",
   "mimetype": "text/x-python",
   "name": "python",
   "nbconvert_exporter": "python",
   "pygments_lexer": "ipython3",
   "version": "3.10.10"
  }
 },
 "nbformat": 4,
 "nbformat_minor": 5
}
